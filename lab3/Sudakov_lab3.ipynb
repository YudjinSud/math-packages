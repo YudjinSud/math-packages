{
 "cells": [
  {
   "cell_type": "markdown",
   "id": "d262dfc5",
   "metadata": {},
   "source": [
    "# Математические пакеты."
   ]
  },
  {
   "cell_type": "markdown",
   "id": "b4716379",
   "metadata": {},
   "source": [
    "## Лабораторная работа №3: Использование библиотеки символьных вычислений SymPy для решения задач"
   ]
  },
  {
   "cell_type": "markdown",
   "id": "ca4a661d",
   "metadata": {},
   "source": [
    "Выполнил студент группы 9381 Судаков Евгений, вариант 16."
   ]
  },
  {
   "cell_type": "markdown",
   "id": "71f1447a",
   "metadata": {},
   "source": [
    "## Цель работы\n",
    "\n",
    "Практическое применение библиотеки символьных вычислений Python (SymPy) для решения задач дискретной математики и математической логики."
   ]
  },
  {
   "cell_type": "markdown",
   "id": "2a5e825a",
   "metadata": {},
   "source": [
    "1. Используя методы библиотеки SymPy решить диофантово уравнение;\n",
    "2. Используя методы библиотеки SymPy по открытой части ключа RSA найти соответствующую закрытую часть и расшифровать кодированное слово;\n",
    "3. Используя методы библиотеки SymPy записать в ДНФ и КНФ булеву функцию, заданную аналитическим выражением."
   ]
  },
  {
   "cell_type": "markdown",
   "id": "f5f3959b",
   "metadata": {},
   "source": [
    "## Выполнение работы"
   ]
  },
  {
   "cell_type": "markdown",
   "id": "d05cd74a",
   "metadata": {},
   "source": [
    "Подключаем необходимы библиотеки:"
   ]
  },
  {
   "cell_type": "code",
   "execution_count": 8,
   "id": "04d4e304",
   "metadata": {},
   "outputs": [],
   "source": [
    "import sympy as sp\n",
    "import sympy.crypto.crypto as spc\n",
    "import sympy.logic.boolalg as spl"
   ]
  },
  {
   "cell_type": "markdown",
   "id": "10881b77",
   "metadata": {},
   "source": [
    "### 1. Решение диофантового уравнения\n",
    "\n",
    "Решим уравнение $2295x+ 4862y = −119$ с помощью метода sp.diophantine:"
   ]
  },
  {
   "cell_type": "code",
   "execution_count": 9,
   "id": "7cc271d3",
   "metadata": {},
   "outputs": [
    {
     "data": {
      "text/plain": [
       "{(286*t_0 - 875, 413 - 135*t_0)}"
      ]
     },
     "execution_count": 9,
     "metadata": {},
     "output_type": "execute_result"
    }
   ],
   "source": [
    "x, y = sp.symbols(\"x y\")\n",
    "sp.diophantine(2295 * x + 4862 * y + 119)"
   ]
  },
  {
   "cell_type": "markdown",
   "id": "eff50868",
   "metadata": {},
   "source": [
    "Результат:\n",
    "\n",
    "$x = 286 t_0 - 875$\n",
    "\n",
    "$y = 413 - 135 t_0,$\n",
    " \n",
    "$t_0 \\in \\mathbb{Z}$"
   ]
  },
  {
   "cell_type": "markdown",
   "id": "03dd99a0",
   "metadata": {},
   "source": [
    "### 2. Расшифровка закодированного сообщения\n",
    "\n",
    "Русское слово из четырех букв закодировано при помощи алгоритма RSA открытым ключом (e = 15,m = 46).\n",
    "Шифрованное сообщение имеет вид (29; 4; 16; 36). Подберите закрытую часть ключа и прочитайте исходное слово.\n",
    "Буквам русского алфавита соответсвуют числа в диапазоне от 2 до 32 (исключены буквы “e” и “ъ”).\n"
   ]
  },
  {
   "cell_type": "code",
   "execution_count": 21,
   "id": "5c68cd4e",
   "metadata": {},
   "outputs": [
    {
     "name": "stdout",
     "output_type": "stream",
     "text": [
      "зрак\n"
     ]
    }
   ],
   "source": [
    "key = spc.rsa_private_key(46, 15)\n",
    "word = [29, 4, 16, 36]\n",
    "letters = ['а', 'б', 'в', 'г', 'д', 'е', 'ж', 'з', 'и', 'й', 'к', 'л', 'м', 'н', 'о', 'п', 'р', 'с', 'т', 'у', 'ф', 'х', 'ц', 'ч', 'ш', 'щ', 'ы', 'ь', 'э', 'ю', 'я']\n",
    "\n",
    "result = ''\n",
    "for i in word:\n",
    "    result += letters[spc.decipher_rsa(i, key) - 2]\n",
    "print(result)"
   ]
  },
  {
   "cell_type": "markdown",
   "id": "cdab8866",
   "metadata": {},
   "source": [
    "### 3. Преобразование булевой функции в ДНФ И КНФ"
   ]
  },
  {
   "cell_type": "markdown",
   "id": "fe0348f8",
   "metadata": {},
   "source": [
    "$ f(x, y, z) = ((yz) ∨ (z  \\oplus  x))(x ∨ (x \\oplus y)) $"
   ]
  },
  {
   "cell_type": "code",
   "execution_count": 25,
   "id": "e5288edf",
   "metadata": {},
   "outputs": [
    {
     "name": "stdout",
     "output_type": "stream",
     "text": [
      "ДНФ:  (y & z) | (x & ~z)\n",
      "КНФ:  (x | z) & (y | ~z)\n"
     ]
    }
   ],
   "source": [
    "from sympy.abc import x, y, z\n",
    "\n",
    "f = ((y & z) | (z ^ x))&(x | (x ^ y))\n",
    "\n",
    "print('ДНФ: ', spl.to_dnf(f, True))\n",
    "print('КНФ: ', spl.to_cnf(f, True))"
   ]
  },
  {
   "cell_type": "markdown",
   "id": "170603f6",
   "metadata": {},
   "source": [
    "### Выводы\n",
    "Были получены навыки работы с пакетом SymPy для решения задач дискретной математики и математической логики, а именно:\n",
    "1. Было решено диафонтово уравнение\n",
    "2. С помощью алгоритма RSA декодировано зашифрованное сообщение\n",
    "3. Булева функция была приведена к ДНФ и КНФ\n"
   ]
  },
  {
   "cell_type": "code",
   "execution_count": null,
   "id": "af4de4c1",
   "metadata": {},
   "outputs": [],
   "source": []
  }
 ],
 "metadata": {
  "kernelspec": {
   "display_name": "Python 3 (ipykernel)",
   "language": "python",
   "name": "python3"
  },
  "language_info": {
   "codemirror_mode": {
    "name": "ipython",
    "version": 3
   },
   "file_extension": ".py",
   "mimetype": "text/x-python",
   "name": "python",
   "nbconvert_exporter": "python",
   "pygments_lexer": "ipython3",
   "version": "3.9.5"
  }
 },
 "nbformat": 4,
 "nbformat_minor": 5
}
